{
 "cells": [
  {
   "cell_type": "markdown",
   "id": "be02a957-7133-4d02-818e-fedeb3cecb05",
   "metadata": {},
   "source": [
    "# Project 12 -- Emilio Pozas"
   ]
  },
  {
   "cell_type": "markdown",
   "id": "6180e742-8e39-4698-98ff-5b00c8cf8ea0",
   "metadata": {},
   "source": [
    "## Question 1"
   ]
  },
  {
   "cell_type": "code",
   "execution_count": 2,
   "id": "49445606-d363-41b4-b479-e319a9a84c01",
   "metadata": {},
   "outputs": [],
   "source": [
    "library(data.table)"
   ]
  },
  {
   "cell_type": "code",
   "execution_count": 3,
   "id": "9af7f5f7-bc97-44df-950e-df9b8755d6ae",
   "metadata": {},
   "outputs": [],
   "source": [
    "options(jupyter.rich_display = F)"
   ]
  },
  {
   "cell_type": "code",
   "execution_count": 4,
   "id": "9e7f9c56-fcf9-4790-a169-4eb4fceaebcf",
   "metadata": {},
   "outputs": [],
   "source": [
    "options(repr.matrix.max.cols = 30, repr.matrix.max.rows = 200)"
   ]
  },
  {
   "cell_type": "code",
   "execution_count": 5,
   "id": "e68ae9ee-ebeb-49de-9ac8-247ca7971cad",
   "metadata": {},
   "outputs": [],
   "source": [
    "orders <- fread(\"/anvil/projects/tdm/data/restaurant/orders.csv\")"
   ]
  },
  {
   "cell_type": "code",
   "execution_count": 6,
   "id": "da05fae7-ef15-4785-82be-d8f761de163b",
   "metadata": {},
   "outputs": [
    {
     "data": {
      "text/plain": [
       "[1] \"2019-08-01 05:30:16 UTC\" \"2019-08-01 05:31:10 UTC\"\n",
       "[3] \"2019-08-01 05:31:33 UTC\" \"2019-08-01 05:34:54 UTC\"\n",
       "[5] \"2019-08-01 05:35:51 UTC\" \"2019-08-01 05:37:05 UTC\""
      ]
     },
     "metadata": {},
     "output_type": "display_data"
    }
   ],
   "source": [
    "head(orders$created_at)"
   ]
  },
  {
   "cell_type": "code",
   "execution_count": 7,
   "id": "8747ef8a-81c3-49e7-8a33-fb4d1edd12bd",
   "metadata": {},
   "outputs": [
    {
     "data": {
      "text/plain": [
       "\n",
       " 2019  2020 \n",
       "93795 41508 "
      ]
     },
     "metadata": {},
     "output_type": "display_data"
    }
   ],
   "source": [
    "table(year(orders$created_at))"
   ]
  },
  {
   "cell_type": "code",
   "execution_count": 9,
   "id": "5e2337c7-fe3f-4ef1-9548-7f5bd57bf3f6",
   "metadata": {},
   "outputs": [
    {
     "data": {
      "text/plain": [
       "\n",
       "    1     2     5     6     7     8     9    10    11    12 \n",
       "17825 23683     1 10120 10175  8933  6609 19893 18249 19815 "
      ]
     },
     "metadata": {},
     "output_type": "display_data"
    }
   ],
   "source": [
    "table(month(orders$created_at))"
   ]
  },
  {
   "cell_type": "code",
   "execution_count": 10,
   "id": "e44e5b7b-fb63-4187-8bc7-15bf9f966e56",
   "metadata": {},
   "outputs": [
    {
     "data": {
      "text/plain": [
       "\n",
       "    1     2     3     4     5     6     7 \n",
       "18651 19676 22003 20619 22210 15906 16238 "
      ]
     },
     "metadata": {},
     "output_type": "display_data"
    }
   ],
   "source": [
    "table(wday(orders$created_at))"
   ]
  },
  {
   "cell_type": "code",
   "execution_count": 17,
   "id": "0dd368d4-5b27-4d34-8cd1-022f6d34cb06",
   "metadata": {},
   "outputs": [
    {
     "data": {
      "text/plain": [
       "\n",
       "2019-05 2019-06 2019-07 2019-08 2019-09 2019-10 2019-11 2019-12 2020-01 2020-02 \n",
       "      1   10120   10175    8933    6609   19893   18249   19815   17825   23683 "
      ]
     },
     "metadata": {},
     "output_type": "display_data"
    }
   ],
   "source": [
    "table(substr(orders$created_at,1,7))"
   ]
  },
  {
   "cell_type": "code",
   "execution_count": 18,
   "id": "a1885da0-b73e-4484-b3cd-756ee358e179",
   "metadata": {},
   "outputs": [
    {
     "data": {
      "text/plain": [
       "\n",
       "2019-10 2019-11 2019-12  2019-5  2019-6  2019-7  2019-8  2019-9  2020-1  2020-2 \n",
       "  19893   18249   19815       1   10120   10175    8933    6609   17825   23683 "
      ]
     },
     "metadata": {},
     "output_type": "display_data"
    }
   ],
   "source": [
    "table(paste(year(orders$created_at),month(orders$created_at),sep=\"-\"))"
   ]
  },
  {
   "cell_type": "code",
   "execution_count": 33,
   "id": "791f5ff4-1e7a-45de-9057-6636d7c9c476",
   "metadata": {},
   "outputs": [
    {
     "data": {
      "text/plain": [
       "\n",
       "01-2020 02-2020 05-2019 06-2019 07-2019 08-2019 09-2019 10-2019 11-2019 12-2019 \n",
       "  17825   23683       1   10120   10175    8933    6609   19893   18249   19815 "
      ]
     },
     "metadata": {},
     "output_type": "display_data"
    }
   ],
   "source": [
    "table(format(orders$created_at, \"%m-%Y\"))"
   ]
  },
  {
   "cell_type": "markdown",
   "id": "fc601975-35ed-4680-a4e1-0273ee3cc047",
   "metadata": {},
   "source": [
    "## Question 2"
   ]
  },
  {
   "cell_type": "code",
   "execution_count": 26,
   "id": "a16336a1-1ef0-41e8-bc7c-49387db27497",
   "metadata": {},
   "outputs": [
    {
     "data": {
      "text/plain": [
       "\n",
       "2JJAO46 B28LJKM HJFTTGW VDEJEMP TL7Z2DM XW90EAP \n",
       "    115     119     128     146     151     262 "
      ]
     },
     "metadata": {},
     "output_type": "display_data"
    }
   ],
   "source": [
    "tail(sort(table(orders$customer_id)))"
   ]
  },
  {
   "cell_type": "code",
   "execution_count": 32,
   "id": "b009c994-bf29-48d1-a4bc-1168adff69d3",
   "metadata": {},
   "outputs": [
    {
     "data": {
      "text/plain": [
       "\n",
       "06-2019 07-2019 10-2019 08-2019 12-2019 09-2019 01-2020 11-2019 02-2020 \n",
       "     37      36      34      32      30      28      23      23      19 "
      ]
     },
     "metadata": {},
     "output_type": "display_data"
    }
   ],
   "source": [
    "sort(table(format(orders$created_at[orders$customer_id == \"XW90EAP\"],\"%m-%Y\")), decreasing =TRUE)"
   ]
  },
  {
   "cell_type": "markdown",
   "id": "8e586edd-ff26-4ce2-8f6b-2424b26f2929",
   "metadata": {},
   "source": [
    "## Question 3"
   ]
  },
  {
   "cell_type": "code",
   "execution_count": 34,
   "id": "bbe0f40d-9655-4653-9ca8-886bdb61cb91",
   "metadata": {},
   "outputs": [
    {
     "data": {
      "text/plain": [
       "\n",
       "     1      2      3      4      5 \n",
       "104714  22079   1361   6696    453 "
      ]
     },
     "metadata": {},
     "output_type": "display_data"
    }
   ],
   "source": [
    "table(orders$payment_mode)"
   ]
  },
  {
   "cell_type": "code",
   "execution_count": 36,
   "id": "ff604818-fd50-4e98-a12f-4e8935545cd0",
   "metadata": {},
   "outputs": [
    {
     "data": {
      "text/plain": [
       "\n",
       "  1   2   4   5 \n",
       " 59 188  14   1 "
      ]
     },
     "metadata": {},
     "output_type": "display_data"
    }
   ],
   "source": [
    "table(orders$payment_mode[orders$customer_id == \"XW90EAP\"])"
   ]
  },
  {
   "cell_type": "markdown",
   "id": "da22f29c-d245-4d2b-9fc1-ca14cb6087d9",
   "metadata": {},
   "source": [
    "## Question 4"
   ]
  },
  {
   "cell_type": "code",
   "execution_count": 38,
   "id": "8cffc767-d1c8-4d64-b7dc-f0d2ee8a80d1",
   "metadata": {},
   "outputs": [],
   "source": [
    "ordersJan2020 <- subset(orders, format(created_at,  \"%m-%Y\") == \"01-2020\") "
   ]
  },
  {
   "cell_type": "code",
   "execution_count": 40,
   "id": "95192b8a-bdf9-4e0f-ada2-de9a06a5db16",
   "metadata": {},
   "outputs": [
    {
     "data": {
      "text/plain": [
       "  akeed_order_id customer_id item_count grand_total payment_mode promo_code \n",
       "1 319584         JNFE1NC     4          33.9        1                       \n",
       "2 319585         1HDJHXM     2           6.5        1                       \n",
       "3 319589         MRONLCP     3          13.3        1                       \n",
       "4 319591         OX9QRI3     2           9.5        1                       \n",
       "5 319596         0SL9MNR     1          13.6        1                       \n",
       "6 319598         4PCXU2K     2           3.5        1            akeed319521\n",
       "  vendor_discount_amount promo_code_discount_percentage is_favorite is_rated\n",
       "1 0                      0                              No          No      \n",
       "2 0                      0                              No          No      \n",
       "3 0                      0                              No          No      \n",
       "4 0                      0                              No          No      \n",
       "5 0                      0                              No          No      \n",
       "6 0                      0                              No          No      \n",
       "  vendor_rating driver_rating deliverydistance preparationtime delivery_time\n",
       "1 NA            0              4.17            40                           \n",
       "2 NA            0              2.39            35                           \n",
       "3 NA            0              4.73            35                           \n",
       "4 NA            0              1.19            35                           \n",
       "5 NA            0             10.74            50                           \n",
       "6 NA            0              5.82            55                           \n",
       "  order_accepted_time driver_accepted_time ready_for_pickup_time\n",
       "1 2020-01-01 00:01:37 2020-01-01 00:14:21  2020-01-01 00:02:14  \n",
       "2 2020-01-01 00:00:48 2020-01-01 00:08:05  2020-01-01 00:04:03  \n",
       "3 2020-01-01 00:04:13 2020-01-01 00:08:17  2020-01-01 00:34:39  \n",
       "4 2020-01-01 00:05:32 2020-01-01 00:18:01  2020-01-01 00:08:48  \n",
       "5 2020-01-01 00:10:36 2020-01-01 00:19:45  2020-01-01 00:13:48  \n",
       "6 2020-01-01 00:13:13 2020-01-01 00:17:54  2020-01-01 00:13:52  \n",
       "  picked_up_time      delivered_time      delivery_date vendor_id\n",
       "1 2020-01-01 00:22:01 2020-01-01 00:34:09 <NA>           82      \n",
       "2 2020-01-01 00:33:56 2020-01-01 00:41:05 <NA>          189      \n",
       "3 2020-01-01 00:36:49 2020-01-01 00:40:50 <NA>          578      \n",
       "4 2020-01-01 00:28:03 2020-01-01 00:32:00 <NA>           79      \n",
       "5 2020-01-01 00:38:52 2020-01-01 00:53:01 <NA>          113      \n",
       "6 2020-01-01 00:34:13 2020-01-01 00:54:55 <NA>          537      \n",
       "  created_at          LOCATION_NUMBER LOCATION_TYPE CID X LOC_NUM X VENDOR\n",
       "1 2020-01-01 00:00:06 2               Home          JNFE1NC X 2 X 82      \n",
       "2 2020-01-01 00:00:27 0               Home          1HDJHXM X 0 X 189     \n",
       "3 2020-01-01 00:03:03 3               Home          MRONLCP X 3 X 578     \n",
       "4 2020-01-01 00:05:05 0                             OX9QRI3 X 0 X 79      \n",
       "5 2020-01-01 00:09:36 1               Home          0SL9MNR X 1 X 113     \n",
       "6 2020-01-01 00:12:46 0                             4PCXU2K X 0 X 537     "
      ]
     },
     "metadata": {},
     "output_type": "display_data"
    }
   ],
   "source": [
    "head(ordersJan2020)"
   ]
  },
  {
   "cell_type": "code",
   "execution_count": 41,
   "id": "1f71a986-5f88-4a5f-b355-8d16fb193524",
   "metadata": {},
   "outputs": [],
   "source": [
    "ordersJan2020$day_of_week <- weekdays(ordersJan2020$created_at)"
   ]
  },
  {
   "cell_type": "code",
   "execution_count": 42,
   "id": "07e3a0c4-ec95-4b46-a4c6-725813d00b9f",
   "metadata": {},
   "outputs": [],
   "source": [
    "sum_grand_total <- aggregate(grand_total ~ day_of_week, ordersJan2020, sum)"
   ]
  },
  {
   "cell_type": "code",
   "execution_count": 43,
   "id": "843dda5d-e33a-4594-b1a9-921042399a9e",
   "metadata": {},
   "outputs": [],
   "source": [
    "sum_grand_total$day_of_week <- factor(sum_grand_total$day_of_week, levels = c(\"Sunday\", \"Monday\", \"Tuesday\", \"Wednesday\", \"Thursday\", \"Friday\", \"Saturday\"))"
   ]
  },
  {
   "cell_type": "code",
   "execution_count": 47,
   "id": "798902e7-8f9e-449b-9b70-fe968978dddf",
   "metadata": {},
   "outputs": [
    {
     "data": {
      "image/png": "[encoded data removed]",
      "text/plain": [
       "Plot with title \"Sum of Grand Total for Each Day of the Week\""
      ]
     },
     "metadata": {
      "image/png": {
       "height": 420,
       "width": 420
      }
     },
     "output_type": "display_data"
    }
   ],
   "source": [
    "plot(sum_grand_total$day_of_week, sum_grand_total$grand_total, col = \"blue\", \n",
    "     xlab = \"Day of the Week\", ylab = \"Sum of Grand Total\",\n",
    "     main = \"Sum of Grand Total for Each Day of the Week\")"
   ]
  },
  {
   "cell_type": "markdown",
   "id": "f76442d6-d02e-4f26-b9d6-c3183e1d6929",
   "metadata": {},
   "source": [
    "## Pledge\n",
    "\n",
    "By submitting this work I hereby pledge that this is my own, personal work. I've acknowledged in the designated place at the top of this file all sources that I used to complete said work, including but not limited to: online resources, books, and electronic communications. I've noted all collaboration with fellow students and/or TA's. I did not copy or plagiarize another's work.\n",
    "\n",
    "> As a Boilermaker pursuing academic excellence, I pledge to be honest and true in all that I do. Accountable together – We are Purdue."
   ]
  }
 ],
 "metadata": {
  "kernelspec": {
   "display_name": "seminar-r",
   "language": "R",
   "name": "seminar-r"
  },
  "language_info": {
   "codemirror_mode": "r",
   "file_extension": ".r",
   "mimetype": "text/x-r-source",
   "name": "R",
   "pygments_lexer": "r",
   "version": "4.3.1"
  }
 },
 "nbformat": 4,
 "nbformat_minor": 5
}
